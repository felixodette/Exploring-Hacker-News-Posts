{
 "cells": [
  {
   "cell_type": "markdown",
   "metadata": {
    "collapsed": true
   },
   "source": [
    "# Exploring Hacker News Posts - the Best Time to Submit a Post that Draws Attention\n",
    "\n",
    "![hacker news logo](hackernew.jpeg)\n",
    "\n",
    "Hacker News is a site started by the startup incubator Y Combinator, where user-submitted stories (known as \"posts\") are voted and commented upon, similar to reddit. Hacker News is extremely popular in technology and startup circles, and posts that make it to the top of Hacker News' listings can get hundreds of thousands of visitors as a result. In this project, we'll work with a data set of submissions to popular technology site Hacker News.\n",
    "\n",
    "You can find the data set [here](https://www.kaggle.com/hacker-news/hacker-news-posts), but note that it has been reduced from almost 300,000 rows to approximately 20,000 rows by removing all submissions that did not receive any comments, and then randomly sampling from the remaining submissions. Below are descriptions of the columns:\n",
    "- id: The unique identifier from Hacker News for the post\n",
    "- title: The title of the post\n",
    "- url: The URL that the posts links to, if the post has a URL\n",
    "- num_points: The number of points the post acquired, calculated as the total number of upvotes minus the total number of downvotes\n",
    "- num_comments: The number of comments that were made on the post\n",
    "- author: The username of the person who submitted the post\n",
    "- created_at: The date and time at which the post was submitted\n",
    "\n",
    "## Goal of the Project\n",
    "Our project interested in analysing the posts with titles starting with:\n",
    "\n",
    "Ask HN: The posts for asking Hacker News community a specific question.\n",
    "Show HN: The posts for sharing with the community a project, product, or just generally something interesting.\n",
    "The goal of our project is to compare these two types of posts to study whether the number of comments and points (total number of upvotes) is influenced by:\n",
    "\n",
    "The type of posts — either Ask HN or Show HN?\n",
    "The submission time of the posts — what time?"
   ]
  },
  {
   "cell_type": "markdown",
   "metadata": {},
   "source": [
    "## Opening and Preparing the Data\n",
    "We open and read hacker_news.csv as a list of lists and assign it to the variable hn. For data analysis purpose, we remove the header row (hn[0]) of the dataset and keep only the rows (hn[1:]) that contain the data."
   ]
  },
  {
   "cell_type": "code",
   "execution_count": 1,
   "metadata": {},
   "outputs": [
    {
     "output_type": "stream",
     "name": "stdout",
     "text": [
      "['id', 'title', 'url', 'num_points', 'num_comments', 'author', 'created_at']\n\n\n[['12224879', 'Interactive Dynamic Video', 'http://www.interactivedynamicvideo.com/', '386', '52', 'ne0phyte', '8/4/2016 11:52'], ['10975351', 'How to Use Open Source and Shut the Fuck Up at the Same Time', 'http://hueniverse.com/2016/01/26/how-to-use-open-source-and-shut-the-fuck-up-at-the-same-time/', '39', '10', 'josep2', '1/26/2016 19:30'], ['11964716', \"Florida DJs May Face Felony for April Fools' Water Joke\", 'http://www.thewire.com/entertainment/2013/04/florida-djs-april-fools-water-joke/63798/', '2', '1', 'vezycash', '6/23/2016 22:20'], ['11919867', 'Technology ventures: From Idea to Enterprise', 'https://www.amazon.com/Technology-Ventures-Enterprise-Thomas-Byers/dp/0073523429', '3', '1', 'hswarna', '6/17/2016 0:01'], ['10301696', 'Note by Note: The Making of Steinway L1037 (2007)', 'http://www.nytimes.com/2007/11/07/movies/07stein.html?_r=0', '8', '2', 'walterbell', '9/30/2015 4:12']]\n"
     ]
    }
   ],
   "source": [
    "from csv import reader\n",
    "import datetime as dt\n",
    "\n",
    "input_file = 'hacker_news.csv'\n",
    "data = open(input_file)\n",
    "file = reader(data)\n",
    "hn = list(file)\n",
    "\n",
    "headers = hn[0]\n",
    "hn = hn[1:]\n",
    "print(headers)\n",
    "print('\\n')\n",
    "print(hn[:5])"
   ]
  },
  {
   "cell_type": "markdown",
   "metadata": {},
   "source": [
    "### Which post has a higher average number of comments - 'Ask HN' or 'Show HN'?\n",
    "Since we focus only on the post titles start with Ask HN or Show HN, we generate new lists of lists for ask_posts, show_posts and other_posts."
   ]
  },
  {
   "cell_type": "code",
   "execution_count": 2,
   "metadata": {},
   "outputs": [
    {
     "output_type": "stream",
     "name": "stdout",
     "text": [
      "Number of respective posts:\n     ask_posts:   1744\n     show_posts:  1162\n     other_posts: 17194\n"
     ]
    }
   ],
   "source": [
    "ask_posts = []\n",
    "show_posts = []\n",
    "other_posts =[]\n",
    "\n",
    "for row in hn:\n",
    "    title = row[1]\n",
    "    if title.lower().startswith('ask hn'):\n",
    "        ask_posts.append(row)\n",
    "    elif title.lower().startswith('show hn'):\n",
    "            show_posts.append(row)\n",
    "    else:\n",
    "        other_posts.append(row)\n",
    "\n",
    "print(f'Number of respective posts:')\n",
    "print(f'     ask_posts:   {len(ask_posts)}')\n",
    "print(f'     show_posts:  {len(show_posts)}')\n",
    "print(f'     other_posts: {len(other_posts)}')"
   ]
  },
  {
   "cell_type": "markdown",
   "metadata": {},
   "source": [
    "Let's inspect the first five rows of ask_posts and show_posts respectively below:"
   ]
  },
  {
   "cell_type": "code",
   "execution_count": 3,
   "metadata": {},
   "outputs": [
    {
     "output_type": "stream",
     "name": "stdout",
     "text": [
      "ask_posts:\n[['12296411', 'Ask HN: How to improve my personal website?', '', '2', '6', 'ahmedbaracat', '8/16/2016 9:55'], ['10610020', 'Ask HN: Am I the only one outraged by Twitter shutting down share counts?', '', '28', '29', 'tkfx', '11/22/2015 13:43'], ['11610310', 'Ask HN: Aby recent changes to CSS that broke mobile?', '', '1', '1', 'polskibus', '5/2/2016 10:14'], ['12210105', 'Ask HN: Looking for Employee #3 How do I do it?', '', '1', '3', 'sph130', '8/2/2016 14:20'], ['10394168', 'Ask HN: Someone offered to buy my browser extension from me. What now?', '', '28', '17', 'roykolak', '10/15/2015 16:38']]\n\n\nshow_posts:\n[['10627194', 'Show HN: Wio Link  ESP8266 Based Web of Things Hardware Development Platform', 'https://iot.seeed.cc', '26', '22', 'kfihihc', '11/25/2015 14:03'], ['10646440', 'Show HN: Something pointless I made', 'http://dn.ht/picklecat/', '747', '102', 'dhotson', '11/29/2015 22:46'], ['11590768', 'Show HN: Shanhu.io, a programming playground powered by e8vm', 'https://shanhu.io', '1', '1', 'h8liu', '4/28/2016 18:05'], ['12178806', 'Show HN: Webscope  Easy way for web developers to communicate with Clients', 'http://webscopeapp.com', '3', '3', 'fastbrick', '7/28/2016 7:11'], ['10872799', 'Show HN: GeoScreenshot  Easily test Geo-IP based web pages', 'https://www.geoscreenshot.com/', '1', '9', 'kpsychwave', '1/9/2016 20:45']]\n"
     ]
    }
   ],
   "source": [
    "print('ask_posts:')\n",
    "print(ask_posts[:5])\n",
    "\n",
    "print('\\n')\n",
    "\n",
    "print('show_posts:')\n",
    "print(show_posts[:5])"
   ]
  },
  {
   "cell_type": "markdown",
   "metadata": {},
   "source": [
    "Next, we will calculate the average number of comments for ask_posts and show_posts. The num_comments has an index of 4."
   ]
  },
  {
   "cell_type": "code",
   "execution_count": 4,
   "metadata": {},
   "outputs": [
    {
     "output_type": "stream",
     "name": "stdout",
     "text": [
      "Average ask comments:  14.038417431192661\nAverage show comments: 10.31669535283993\n"
     ]
    }
   ],
   "source": [
    "total_ask_comments = 0\n",
    "ask_list = []\n",
    "for row in ask_posts:\n",
    "    num_comments = int(row[4])\n",
    "    ask_list.append(num_comments)\n",
    "    total_ask_comments += num_comments\n",
    "\n",
    "avg_ask_comments = total_ask_comments / len(ask_list)\n",
    "print(f'Average ask comments:  {avg_ask_comments}')\n",
    "\n",
    "total_show_comments = 0\n",
    "show_list = []\n",
    "for row in show_posts:\n",
    "    num_comments = int(row[4])\n",
    "    show_list.append(num_comments)\n",
    "    total_show_comments += num_comments\n",
    "\n",
    "avg_show_comments = total_show_comments / len(show_list)\n",
    "\n",
    "print(f'Average show comments: {avg_show_comments}')\n",
    "    "
   ]
  },
  {
   "cell_type": "markdown",
   "metadata": {},
   "source": [
    "Based on our results, ask_post has a slightly higher average number of comments than show_post. Nonetheless, it is not statistically significant, as they only have a difference of ~4 comments."
   ]
  },
  {
   "cell_type": "markdown",
   "metadata": {},
   "source": [
    "## Determining the Amount of 'Ask Posts' and Comments by Hour Created\n",
    "Since ask_posts has slightly more comments than show_posts, we decided to focus on the analysis of ask_posts starting from this step.\n",
    "\n",
    "To investigate whether the creation time of ask_posts influences the number of comments received, we apply the following approach:\n",
    "\n",
    "Determine the number of ask_posts created every hour, as well as the corresponded number of comments obtained.\n",
    "Determine the average number of comments obtained by ask_posts per hour of its creation.\n",
    "To perform the analysis for part 1, we will apply the datetime module to work with the data in the created_at column (index: -1)."
   ]
  },
  {
   "cell_type": "code",
   "execution_count": 5,
   "metadata": {},
   "outputs": [
    {
     "output_type": "stream",
     "name": "stdout",
     "text": [
      "Counts by hour:   {'09': 45, '13': 85, '10': 59, '14': 107, '16': 108, '23': 68, '12': 73, '17': 100, '15': 116, '21': 109, '20': 80, '02': 58, '18': 109, '03': 54, '05': 46, '19': 110, '01': 60, '22': 71, '08': 48, '04': 47, '00': 55, '06': 44, '07': 34, '11': 58}\n\nComments by hour: {'09': 251, '13': 1253, '10': 793, '14': 1416, '16': 1814, '23': 543, '12': 687, '17': 1146, '15': 4477, '21': 1745, '20': 1722, '02': 1381, '18': 1439, '03': 421, '05': 464, '19': 1188, '01': 683, '22': 479, '08': 492, '04': 337, '00': 447, '06': 397, '07': 267, '11': 641}\n"
     ]
    }
   ],
   "source": [
    "result_list = []\n",
    "for row in ask_posts:\n",
    "    result_list.append([row[6],int(row[4])])\n",
    "\n",
    "counts_by_hour = {}\n",
    "comments_by_hour = {}\n",
    "\n",
    "for row in result_list:\n",
    "    comments_result = row[1]\n",
    "    creation_time = dt.datetime.strptime(row[0], '%m/%d/%Y %H:%M')\n",
    "    creation_hour = creation_time.strftime('%H')\n",
    "    \n",
    "    if creation_hour not in counts_by_hour:\n",
    "        counts_by_hour[creation_hour] = 1\n",
    "        comments_by_hour[creation_hour] = comments_result\n",
    "    else:\n",
    "        counts_by_hour[creation_hour] += 1\n",
    "        comments_by_hour[creation_hour] += comments_result\n",
    "        \n",
    "print(f'Counts by hour:   {counts_by_hour}\\n')\n",
    "print(f'Comments by hour: {comments_by_hour}')"
   ]
  },
  {
   "cell_type": "markdown",
   "metadata": {},
   "source": [
    "Next, we will use counts_by_hour and comments_by_hour dictionaries to determine the average number of comments for posts created during each hour of the day."
   ]
  },
  {
   "cell_type": "code",
   "execution_count": 7,
   "metadata": {},
   "outputs": [
    {
     "output_type": "stream",
     "name": "stdout",
     "text": [
      "[['09', 5.5777777777777775], ['13', 14.741176470588234], ['10', 13.440677966101696]]\n"
     ]
    }
   ],
   "source": [
    "avg_by_hour = []\n",
    "\n",
    "for hour in counts_by_hour:\n",
    "    average_comments = comments_by_hour[hour] / counts_by_hour[hour]\n",
    "    avg_by_hour.append([hour, average_comments])\n",
    "\n",
    "print(avg_by_hour[:3])"
   ]
  },
  {
   "cell_type": "markdown",
   "metadata": {},
   "source": [
    "Although we now have the results we need, this format makes it hard to identify the hours with the highest values. Let's finish by sorting the list of lists and printing the five highest values in a format that's easier to read."
   ]
  },
  {
   "cell_type": "code",
   "execution_count": 12,
   "metadata": {},
   "outputs": [
    {
     "output_type": "stream",
     "name": "stdout",
     "text": [
      "Top 5 Hours for Ask Posts Comments\n15:00\n02:00\n20:00\n16:00\n21:00\n"
     ]
    }
   ],
   "source": [
    "swap_avg_by_hour = avg_by_hour\n",
    "\n",
    "for item in swap_avg_by_hour:\n",
    "    item[0], item[1] = item[1], item[0]\n",
    "\n",
    "sorted_swap = sorted(swap_avg_by_hour, reverse=True)\n",
    "\n",
    "print('Top 5 Hours for Ask Posts Comments')\n",
    "for hour in sorted_swap[:5]:\n",
    "    est_hour = dt.datetime.strptime(hour[1], '%H')\n",
    "    est_time = dt.datetime.strftime(est_hour, '%H:%M')\n",
    "    print(est_time)"
   ]
  },
  {
   "cell_type": "code",
   "execution_count": 13,
   "metadata": {},
   "outputs": [
    {
     "output_type": "stream",
     "name": "stdout",
     "text": [
      "15:00: 38.59 average comments per post\n02:00: 23.81 average comments per post\n20:00: 21.52 average comments per post\n16:00: 16.80 average comments per post\n21:00: 16.01 average comments per post\n13:00: 14.74 average comments per post\n10:00: 13.44 average comments per post\n14:00: 13.23 average comments per post\n18:00: 13.20 average comments per post\n17:00: 11.46 average comments per post\n01:00: 11.38 average comments per post\n11:00: 11.05 average comments per post\n19:00: 10.80 average comments per post\n08:00: 10.25 average comments per post\n05:00: 10.09 average comments per post\n12:00: 9.41 average comments per post\n06:00: 9.02 average comments per post\n00:00: 8.13 average comments per post\n23:00: 7.99 average comments per post\n07:00: 7.85 average comments per post\n03:00: 7.80 average comments per post\n04:00: 7.17 average comments per post\n22:00: 6.75 average comments per post\n09:00: 5.58 average comments per post\n"
     ]
    }
   ],
   "source": [
    "for time in sorted_swap:\n",
    "    nai_hour = dt.datetime.strptime(time[1], '%H')\n",
    "    nai_time = dt.datetime.strftime(nai_hour, '%H:%M')\n",
    "    print('{}: {:.2f} average comments per post'.format(nai_time, time[0]))"
   ]
  },
  {
   "cell_type": "markdown",
   "metadata": {},
   "source": [
    "Our results show that creating a post at 15:00 - 16:00 EST has the highest chance of receiving comments. One of the possible explanations is that 15:00 EST is a time when users in both North America and Europe are active. This is based on our assumption that most of the Hacker News users are from these two continents. For the practicality reason, the best time for us to submit a post at our time zone is 22:00, and it is followed by 09:00 and 23:00 EET."
   ]
  },
  {
   "cell_type": "code",
   "execution_count": null,
   "metadata": {},
   "outputs": [],
   "source": []
  }
 ],
 "metadata": {
  "kernelspec": {
   "display_name": "Python 3",
   "language": "python",
   "name": "python3"
  },
  "language_info": {
   "codemirror_mode": {
    "name": "ipython",
    "version": 3
   },
   "file_extension": ".py",
   "mimetype": "text/x-python",
   "name": "python",
   "nbconvert_exporter": "python",
   "pygments_lexer": "ipython3",
   "version": "3.8.5-final"
  }
 },
 "nbformat": 4,
 "nbformat_minor": 2
}